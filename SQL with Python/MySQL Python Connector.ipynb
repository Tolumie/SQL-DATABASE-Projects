{
 "cells": [
  {
   "cell_type": "code",
   "execution_count": 3,
   "id": "6f00ef49",
   "metadata": {},
   "outputs": [],
   "source": [
    "import mysql.connector\n",
    "from mysql.connector import Error\n",
    "import pandas as pd"
   ]
  },
  {
   "cell_type": "code",
   "execution_count": 2,
   "id": "177c57aa",
   "metadata": {},
   "outputs": [
    {
     "name": "stdout",
     "output_type": "stream",
     "text": [
      "MySQL Database connection succesful\n"
     ]
    }
   ],
   "source": [
    "# we use Excepetion handling technique to connect to mysql server.\n",
    "#The 'try' block lets use test a block of codes for errors and except block lets you test the errors \n",
    "\n",
    "\n",
    "def create_server_connection(host_name, user_name, user_password):\n",
    "    connection = None\n",
    "    try:\n",
    "        connection = mysql.connector.connect(\n",
    "            host = host_name,\n",
    "            user = user_name,\n",
    "            passwd = user_password\n",
    "        )\n",
    "        print('MySQL Database connection succesful')\n",
    "    except Error as err:\n",
    "        print(f\"Error: '{err}'\")\n",
    "    return connection\n",
    "    \n",
    "# put mySQl Terminal password\n",
    "\n",
    "pw = 'machine[]'\n",
    "\n",
    "# Database name\n",
    "db = \"IBM_Sql_Magic\"\n",
    "connection = create_server_connection(\"localhost\", 'root', pw)"
   ]
  },
  {
   "cell_type": "code",
   "execution_count": 8,
   "id": "f2eec3f1",
   "metadata": {},
   "outputs": [
    {
     "name": "stdout",
     "output_type": "stream",
     "text": [
      "Error: '1007 (HY000): Can't create database 'ibm_sql_magic'; database exists'\n"
     ]
    }
   ],
   "source": [
    "# create table IBM_Sql_Magic\n",
    "def create_database(connection, query):\n",
    "    cursor = connection.cursor()\n",
    "    try:\n",
    "        cursor.execute(query)\n",
    "        print( 'Database created succesfully')\n",
    "    except Error as err:\n",
    "        print(f\"Error: '{err}'\")\n",
    "create_database_query = 'create database IBM_Sql_Magic'\n",
    "create_database(connection, create_database_query)"
   ]
  },
  {
   "cell_type": "code",
   "execution_count": 4,
   "id": "2bf8cc1c",
   "metadata": {},
   "outputs": [],
   "source": [
    "# connect to database\n",
    "def create_db_connection(host_name, user_name, user_password, db_name):\n",
    "    connection = None\n",
    "    try:\n",
    "        connection = mysql.connector.connect(\n",
    "            host = host_name,\n",
    "            user = user_name,\n",
    "            passwd = user_password,\n",
    "            database = db_name)\n",
    "        print(\"MySQL Database connection succesful\")\n",
    "    except Error as err:\n",
    "        print(f\"Error:'{err}'\")\n",
    "    return connection"
   ]
  },
  {
   "cell_type": "code",
   "execution_count": 5,
   "id": "92e09b74",
   "metadata": {},
   "outputs": [],
   "source": [
    "# Execute sql queries( user defined function)\n",
    "\n",
    "def execute_query(connection, query):\n",
    "    cursor = connection.cursor()\n",
    "    try:\n",
    "        cursor.execute(query)\n",
    "        connection.commit()\n",
    "        print('Query was succesful')\n",
    "    except Error as err:\n",
    "        print(f\"Error: '{err}'\")\n"
   ]
  },
  {
   "cell_type": "code",
   "execution_count": 6,
   "id": "ee2c9468",
   "metadata": {},
   "outputs": [],
   "source": [
    "# function to read and display the results\n",
    "\n",
    "def read_query(connection, query):\n",
    "    cursor = connection.cursor()\n",
    "    result = None\n",
    "    try:\n",
    "        cursor.execute(query)\n",
    "        result = cursor.fetchall()\n",
    "        return result\n",
    "    except Error as err:\n",
    "        print(f\"Error: '{err}'\")"
   ]
  },
  {
   "cell_type": "code",
   "execution_count": null,
   "id": "970d58ff",
   "metadata": {},
   "outputs": [],
   "source": [
    "con = sqlite3.connect(\"SQLiteMagic.db\")\n",
    "cur = con.cursor()"
   ]
  },
  {
   "cell_type": "code",
   "execution_count": 27,
   "id": "5fb856d6",
   "metadata": {},
   "outputs": [
    {
     "name": "stdout",
     "output_type": "stream",
     "text": [
      "MySQL Database connection succesful\n",
      "Query was succesful\n"
     ]
    }
   ],
   "source": [
    "create_orders_tables = \"\"\"\n",
    "create table orders( order_id int primary key,\n",
    "customer_name varchar(30) not null,\n",
    "product_name varchar(20) not null,\n",
    "date_ordered date,\n",
    "quantity int,\n",
    "unit_price float,\n",
    "phone_number varchar(20));\n",
    "\"\"\"\n",
    "# connect to the database\n",
    "connection = create_db_connection('localhost', 'root', pw, db)\n",
    "execute_query(connection, create_orders_tables)"
   ]
  },
  {
   "cell_type": "code",
   "execution_count": 28,
   "id": "cbdc21c5",
   "metadata": {},
   "outputs": [
    {
     "name": "stdout",
     "output_type": "stream",
     "text": [
      "MySQL Database connection succesful\n",
      "Query was succesful\n"
     ]
    }
   ],
   "source": [
    "# insert data\n",
    "\n",
    "data_orders = '''\n",
    "insert into orders values\n",
    "(101, 'Steve', 'Laptop','2018-06-12', 2, 808, '6293730802'),\n",
    "(102, 'Jos', 'Books', '2019-02-18', 10, 12, '8367489124'),\n",
    "(103, 'Stacy', 'Trousers', '2019-12-25', 5, 50, '8976123645'),\n",
    "(164, 'Nancy', 'T-Shirts', '2018-07-14', 7, 38, '7368145099'),\n",
    "(185, 'Maria', 'Headphones', '2019-05-30', 6, 48, '8865316698'),\n",
    "(106, 'Danny', 'Smart TV', '2018-08-20', 10, 300, '7728138449');\n",
    "'''\n",
    "connection = create_db_connection('localhost', 'root', pw, db)\n",
    "execute_query(connection, data_orders)"
   ]
  },
  {
   "cell_type": "code",
   "execution_count": 29,
   "id": "0a2d862f",
   "metadata": {},
   "outputs": [
    {
     "name": "stdout",
     "output_type": "stream",
     "text": [
      "MySQL Database connection succesful\n",
      "('Steve', '6293730802')\n",
      "('Jos', '8367489124')\n",
      "('Stacy', '8976123645')\n",
      "('Danny', '7728138449')\n",
      "('Nancy', '7368145099')\n",
      "('Maria', '8865316698')\n"
     ]
    }
   ],
   "source": [
    "# using the select statement to display result\n",
    "\n",
    "q2 =\"\"\"\n",
    "select customer_name, phone_number from orders;\n",
    "\"\"\"\n",
    "connection = create_db_connection('localhost', 'root', pw, db)\n",
    "results = read_query(connection, q2)\n",
    "for result in results:\n",
    "    print(result)"
   ]
  },
  {
   "cell_type": "code",
   "execution_count": 30,
   "id": "83cc8cdf",
   "metadata": {},
   "outputs": [
    {
     "name": "stdout",
     "output_type": "stream",
     "text": [
      "MySQL Database connection succesful\n",
      "('Steve', '6293730802')\n",
      "('Jos', '8367489124')\n",
      "('Stacy', '8976123645')\n",
      "('Danny', '7728138449')\n",
      "('Nancy', '7368145099')\n",
      "('Maria', '8865316698')\n"
     ]
    }
   ],
   "source": [
    "# using the select statement to display result\n",
    "\n",
    "q3 =\"\"\"\n",
    "select year(date_ordered) from orders;\n",
    "\"\"\"\n",
    "connection = create_db_connection('localhost', 'root', pw, db)\n",
    "results = read_query(connection, q2)\n",
    "for result in results:\n",
    "    print(result)"
   ]
  },
  {
   "cell_type": "code",
   "execution_count": 31,
   "id": "bd1a6b83",
   "metadata": {},
   "outputs": [
    {
     "name": "stdout",
     "output_type": "stream",
     "text": [
      "MySQL Database connection succesful\n",
      "(2018,)\n",
      "(2019,)\n"
     ]
    }
   ],
   "source": [
    "# using the select statement to display result\n",
    "\n",
    "q4 =\"\"\"\n",
    "select distinct year(date_ordered) from orders;\n",
    "\"\"\"\n",
    "connection = create_db_connection('localhost', 'root', pw, db)\n",
    "results = read_query(connection, q4)\n",
    "for result in results:\n",
    "    print(result)"
   ]
  },
  {
   "cell_type": "code",
   "execution_count": 32,
   "id": "3eeca7e7",
   "metadata": {},
   "outputs": [
    {
     "name": "stdout",
     "output_type": "stream",
     "text": [
      "MySQL Database connection succesful\n",
      "(101, 'Steve', 'Laptop', datetime.date(2018, 6, 12), 2, 808.0, '6293730802')\n",
      "(106, 'Danny', 'Smart TV', datetime.date(2018, 8, 20), 10, 300.0, '7728138449')\n",
      "(103, 'Stacy', 'Trousers', datetime.date(2019, 12, 25), 5, 50.0, '8976123645')\n",
      "(185, 'Maria', 'Headphones', datetime.date(2019, 5, 30), 6, 48.0, '8865316698')\n",
      "(164, 'Nancy', 'T-Shirts', datetime.date(2018, 7, 14), 7, 38.0, '7368145099')\n",
      "(102, 'Jos', 'Books', datetime.date(2019, 2, 18), 10, 12.0, '8367489124')\n"
     ]
    }
   ],
   "source": [
    "# using the select statement to display result\n",
    "\n",
    "q6 =\"\"\"\n",
    "select * from orders order by unit_price desc;\n",
    "\"\"\"\n",
    "connection = create_db_connection('localhost', 'root', pw, db)\n",
    "results = read_query(connection, q6)\n",
    "for result in results:\n",
    "    print(result)"
   ]
  },
  {
   "cell_type": "code",
   "execution_count": 33,
   "id": "fff25d7a",
   "metadata": {},
   "outputs": [
    {
     "data": {
      "text/html": [
       "<div>\n",
       "<style scoped>\n",
       "    .dataframe tbody tr th:only-of-type {\n",
       "        vertical-align: middle;\n",
       "    }\n",
       "\n",
       "    .dataframe tbody tr th {\n",
       "        vertical-align: top;\n",
       "    }\n",
       "\n",
       "    .dataframe thead th {\n",
       "        text-align: right;\n",
       "    }\n",
       "</style>\n",
       "<table border=\"1\" class=\"dataframe\">\n",
       "  <thead>\n",
       "    <tr style=\"text-align: right;\">\n",
       "      <th></th>\n",
       "      <th>order_id</th>\n",
       "      <th>customer_name</th>\n",
       "      <th>produt_name</th>\n",
       "      <th>date_ordered</th>\n",
       "      <th>quantity</th>\n",
       "      <th>unit_price</th>\n",
       "      <th>phone_number</th>\n",
       "    </tr>\n",
       "  </thead>\n",
       "  <tbody>\n",
       "    <tr>\n",
       "      <th>0</th>\n",
       "      <td>101</td>\n",
       "      <td>Steve</td>\n",
       "      <td>Laptop</td>\n",
       "      <td>2018-06-12</td>\n",
       "      <td>2</td>\n",
       "      <td>808.0</td>\n",
       "      <td>6293730802</td>\n",
       "    </tr>\n",
       "    <tr>\n",
       "      <th>1</th>\n",
       "      <td>106</td>\n",
       "      <td>Danny</td>\n",
       "      <td>Smart TV</td>\n",
       "      <td>2018-08-20</td>\n",
       "      <td>10</td>\n",
       "      <td>300.0</td>\n",
       "      <td>7728138449</td>\n",
       "    </tr>\n",
       "    <tr>\n",
       "      <th>2</th>\n",
       "      <td>103</td>\n",
       "      <td>Stacy</td>\n",
       "      <td>Trousers</td>\n",
       "      <td>2019-12-25</td>\n",
       "      <td>5</td>\n",
       "      <td>50.0</td>\n",
       "      <td>8976123645</td>\n",
       "    </tr>\n",
       "    <tr>\n",
       "      <th>3</th>\n",
       "      <td>185</td>\n",
       "      <td>Maria</td>\n",
       "      <td>Headphones</td>\n",
       "      <td>2019-05-30</td>\n",
       "      <td>6</td>\n",
       "      <td>48.0</td>\n",
       "      <td>8865316698</td>\n",
       "    </tr>\n",
       "    <tr>\n",
       "      <th>4</th>\n",
       "      <td>164</td>\n",
       "      <td>Nancy</td>\n",
       "      <td>T-Shirts</td>\n",
       "      <td>2018-07-14</td>\n",
       "      <td>7</td>\n",
       "      <td>38.0</td>\n",
       "      <td>7368145099</td>\n",
       "    </tr>\n",
       "    <tr>\n",
       "      <th>5</th>\n",
       "      <td>102</td>\n",
       "      <td>Jos</td>\n",
       "      <td>Books</td>\n",
       "      <td>2019-02-18</td>\n",
       "      <td>10</td>\n",
       "      <td>12.0</td>\n",
       "      <td>8367489124</td>\n",
       "    </tr>\n",
       "  </tbody>\n",
       "</table>\n",
       "</div>"
      ],
      "text/plain": [
       "   order_id customer_name produt_name date_ordered  quantity  unit_price  \\\n",
       "0       101         Steve      Laptop   2018-06-12         2       808.0   \n",
       "1       106         Danny    Smart TV   2018-08-20        10       300.0   \n",
       "2       103         Stacy    Trousers   2019-12-25         5        50.0   \n",
       "3       185         Maria  Headphones   2019-05-30         6        48.0   \n",
       "4       164         Nancy    T-Shirts   2018-07-14         7        38.0   \n",
       "5       102           Jos       Books   2019-02-18        10        12.0   \n",
       "\n",
       "  phone_number  \n",
       "0   6293730802  \n",
       "1   7728138449  \n",
       "2   8976123645  \n",
       "3   8865316698  \n",
       "4   7368145099  \n",
       "5   8367489124  "
      ]
     },
     "metadata": {},
     "output_type": "display_data"
    }
   ],
   "source": [
    "from_db = []\n",
    "for result in results:\n",
    "    result = list(result)\n",
    "    from_db.append(result)\n",
    "columns = ['order_id', 'customer_name','produt_name',\n",
    "           'date_ordered', 'quantity','unit_price','phone_number']\n",
    "df = pd.DataFrame(from_db, columns = columns)\n",
    "\n",
    "display(df)"
   ]
  },
  {
   "cell_type": "code",
   "execution_count": 34,
   "id": "075d41ef",
   "metadata": {},
   "outputs": [
    {
     "name": "stdout",
     "output_type": "stream",
     "text": [
      "MySQL Database connection succesful\n",
      "Query was succesful\n"
     ]
    }
   ],
   "source": [
    "# update command\n",
    "\n",
    "update = '''\n",
    "update orders\n",
    "set unit_price = 45\n",
    "where order_id = 103\n",
    "'''\n",
    "connection = create_db_connection('localhost', 'root', pw, db)\n",
    "execute_query(connection, update)\n"
   ]
  },
  {
   "cell_type": "code",
   "execution_count": 35,
   "id": "d03b863e",
   "metadata": {},
   "outputs": [
    {
     "name": "stdout",
     "output_type": "stream",
     "text": [
      "MySQL Database connection succesful\n",
      "(103, 'Stacy', 'Trousers', datetime.date(2019, 12, 25), 5, 45.0, '8976123645')\n"
     ]
    }
   ],
   "source": [
    "\n",
    "q9 = '''\n",
    "select * from orders where order_id = 103\n",
    "'''\n",
    "connection = create_db_connection('localhost', 'root', pw, db)\n",
    "results = read_query(connection, q9)\n",
    "for result in results:\n",
    "    print(result)"
   ]
  },
  {
   "cell_type": "code",
   "execution_count": 36,
   "id": "a979b8d7",
   "metadata": {},
   "outputs": [
    {
     "name": "stdout",
     "output_type": "stream",
     "text": [
      "MySQL Database connection succesful\n",
      "(103, 'Stacy', 'Trousers', datetime.date(2019, 12, 25), 5, 45.0, '8976123645')\n"
     ]
    }
   ],
   "source": [
    "# Delete command\n",
    "\n",
    "delete_order = '''\n",
    "delete from orders\n",
    "where order_id = 105;\n",
    "'''\n",
    "connection = create_db_connection('localhost', 'root', pw, db)\n",
    "results = read_query(connection, q9)\n",
    "for result in results:\n",
    "    print(result)"
   ]
  },
  {
   "cell_type": "code",
   "execution_count": 37,
   "id": "7b335e8d",
   "metadata": {},
   "outputs": [
    {
     "name": "stdout",
     "output_type": "stream",
     "text": [
      "MySQL Database connection succesful\n",
      "(101, 'Steve', 'Laptop', datetime.date(2018, 6, 12), 2, 808.0, '6293730802')\n",
      "(102, 'Jos', 'Books', datetime.date(2019, 2, 18), 10, 12.0, '8367489124')\n",
      "(103, 'Stacy', 'Trousers', datetime.date(2019, 12, 25), 5, 45.0, '8976123645')\n",
      "(106, 'Danny', 'Smart TV', datetime.date(2018, 8, 20), 10, 300.0, '7728138449')\n",
      "(164, 'Nancy', 'T-Shirts', datetime.date(2018, 7, 14), 7, 38.0, '7368145099')\n",
      "(185, 'Maria', 'Headphones', datetime.date(2019, 5, 30), 6, 48.0, '8865316698')\n"
     ]
    }
   ],
   "source": [
    "\n",
    "q9 = '''\n",
    "select * from orders\n",
    "'''\n",
    "connection = create_db_connection('localhost', 'root', pw, db)\n",
    "results = read_query(connection, q9)\n",
    "for result in results:\n",
    "    print(result)"
   ]
  },
  {
   "cell_type": "code",
   "execution_count": null,
   "id": "4037bf83",
   "metadata": {},
   "outputs": [],
   "source": []
  }
 ],
 "metadata": {
  "kernelspec": {
   "display_name": "Python 3 (ipykernel)",
   "language": "python",
   "name": "python3"
  },
  "language_info": {
   "codemirror_mode": {
    "name": "ipython",
    "version": 3
   },
   "file_extension": ".py",
   "mimetype": "text/x-python",
   "name": "python",
   "nbconvert_exporter": "python",
   "pygments_lexer": "ipython3",
   "version": "3.11.5"
  }
 },
 "nbformat": 4,
 "nbformat_minor": 5
}
